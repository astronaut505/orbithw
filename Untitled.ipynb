{
 "cells": [
  {
   "cell_type": "code",
   "execution_count": null,
   "id": "adf75402",
   "metadata": {},
   "outputs": [],
   "source": [
    "# Step 1: Install required packages\n",
    "!pip install orbit-ml pandas numpy"
   ]
  },
  {
   "cell_type": "code",
   "execution_count": null,
   "id": "a0be97e0",
   "metadata": {},
   "outputs": [],
   "source": [
    "# Step 2: Import necessary modules\n",
    "import pandas as pd\n",
    "import numpy as np\n",
    "from orbit.models.dlt import DLTMAP, DLTFull\n",
    "from orbit.models.lgt import LGTMAP, LGTFull\n",
    "from orbit.utils.simulation import make_trend_arima_data\n",
    "from orbit.diagnostics.backtest import backtest\n",
    "from orbit.diagnostics.metrics import smape"
   ]
  },
  {
   "cell_type": "code",
   "execution_count": null,
   "id": "c4782725",
   "metadata": {},
   "outputs": [],
   "source": [
    "# Step 3: Generate time series with trend and seasonality\n",
    "np.random.seed(42)\n",
    "n = 100\n",
    "data = make_trend_arima_data(n, ar=0.3, ma=0.2, seasonal_period=7, seasonal_strength=0.1, trend=0.1)\n",
    "\n",
    "# Step 4: Split data into training and testing sets\n",
    "train_len = int(n * 0.8)\n",
    "train_data = data[:train_len]\n",
    "test_data = data[train_len:]\n",
    "\n",
    "# Step 5: Initialize and train DLT and LGT models\n",
    "dlt_map = DLTMAP(response_col='response')\n",
    "dlt_map.fit(train_data)\n",
    "\n",
    "dlt_full = DLTFull(response_col='response')\n",
    "dlt_full.fit(train_data)\n",
    "\n",
    "lgt_map = LGTMAP(response_col='response')\n",
    "lgt_map.fit(train_data)\n",
    "\n",
    "lgt_full = LGTFull(response_col='response')\n",
    "lgt_full.fit(train_data)\n"
   ]
  },
  {
   "cell_type": "code",
   "execution_count": null,
   "id": "1deddf34",
   "metadata": {},
   "outputs": [],
   "source": [
    "# Step 6: Perform backtesting analytics and hyperparameter tuning\n",
    "dlt_map_backtest = backtest(dlt_map, train_data, metrics=[smape])\n",
    "dlt_full_backtest = backtest(dlt_full, train_data, metrics=[smape])\n",
    "lgt_map_backtest = backtest(lgt_map, train_data, metrics=[smape])\n",
    "lgt_full_backtest = backtest(lgt_full, train_data, metrics=[smape])\n"
   ]
  },
  {
   "cell_type": "code",
   "execution_count": null,
   "id": "cf35269a",
   "metadata": {},
   "outputs": [],
   "source": [
    "# Step 7: Evaluate model performance on testing set\n",
    "dlt_map_pred = dlt_map.predict(test_data)\n",
    "dlt_full_pred = dlt_full.predict(test_data)\n",
    "lgt_map_pred = lgt_map.predict(test_data)\n",
    "lgt_full_pred = lgt_full.predict(test_data)\n",
    "\n",
    "# Step 8: Compare model performance\n",
    "dlt_map_smape = smape(test_data['response'], dlt_map_pred['prediction'])\n",
    "dlt_full_smape = smape(test_data['response'], dlt_full_pred['prediction'])\n",
    "lgt_map_smape = smape(test_data['response'], lgt_map_pred['prediction'])\n",
    "lgt_full_smape = smape(test_data['response'], lgt_full_pred['prediction'])\n",
    "\n",
    "print(f\"DLT MAP model SMAPE: {dlt_map_smape}\")\n",
    "print(f\"DLT Full model SMAPE: {dlt_full_smape}\")\n",
    "print(f\"LGT MAP model SMAPE: {lgt_map_smape}\")\n",
    "print(f\"LGT Full model SMAPE: {lgt_full_smape}\")"
   ]
  }
 ],
 "metadata": {
  "kernelspec": {
   "display_name": "Python 3 (ipykernel)",
   "language": "python",
   "name": "python3"
  },
  "language_info": {
   "codemirror_mode": {
    "name": "ipython",
    "version": 3
   },
   "file_extension": ".py",
   "mimetype": "text/x-python",
   "name": "python",
   "nbconvert_exporter": "python",
   "pygments_lexer": "ipython3",
   "version": "3.11.4"
  }
 },
 "nbformat": 4,
 "nbformat_minor": 5
}
